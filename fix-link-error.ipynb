{
 "cells": [
  {
   "cell_type": "markdown",
   "metadata": {},
   "source": [
    "![Callysto.ca Banner](https://github.com/callysto/curriculum-notebooks/blob/master/callysto-notebook-banner-top.jpg?raw=true)\n",
    "\n",
    "<a href=\"https://hub.callysto.ca/jupyter/hub/user-redirect/git-pull?repo=https%3A%2F%2Fgithub.com%2Fcallysto%2Ffix-link-error&branch=main&subPath=fix-link-error.ipynb&depth=1\" target=\"_parent\"><img src=\"https://raw.githubusercontent.com/callysto/curriculum-notebooks/master/open-in-callysto-button.svg?sanitize=true\" width=\"123\" height=\"24\" alt=\"Open in Callysto\"/></a>"
   ]
  },
  {
   "cell_type": "markdown",
   "metadata": {},
   "source": [
    "# Getting a Fresh Set of Callysto Notebooks\n",
    "\n",
    "If you would like to update your copy of notebooks on the [Callysto Hub](http://hub.callysto.ca/), you can delete the folder and pull the files from GitHub again.\n",
    "\n",
    "This is useful if something no longer works, or if the repository has been updated.\n",
    "\n",
    "Unfortunately you can’t just select a directory in your Callysto Hub and delete it if it contains files. One way to delete a folder, though, is to use the Python command `shutil.rmtree()` which is a shell utility command that will remove a whole directory tree.\n",
    "\n",
    "To remove a folder, edit and run the following code cell. You can replace `curriculum-notebooks` with the name of the folder (or repository) to be deleted."
   ]
  },
  {
   "cell_type": "code",
   "execution_count": null,
   "metadata": {},
   "outputs": [],
   "source": [
    "folder_to_be_deleted = 'curriculum-notebooks'\n",
    "\n",
    "import shutil\n",
    "shutil.rmtree('../' + folder_to_be_deleted)\n",
    "print('Deleted folder: ' + folder_to_be_deleted)"
   ]
  },
  {
   "cell_type": "markdown",
   "metadata": {},
   "source": [
    "Then you can click on a link from [callysto.ca](https://www.callysto.ca/) that pulls down a new copy of the repository or notebook files that you are interested in.\n",
    "\n",
    "For example, from the [curriculum-notebooks](https://hub.callysto.ca/jupyter/hub/user-redirect/git-pull?repo=https://github.com/callysto/curriculum-notebooks) repository.\n",
    "\n",
    "You can also see [a video](You can also see this in action: https://youtu.be/9WlxLlwS5t8.) of this process."
   ]
  },
  {
   "cell_type": "code",
   "execution_count": null,
   "metadata": {},
   "outputs": [],
   "source": [
    "from IPython.display import YouTubeVideo\n",
    "YouTubeVideo('9WlxLlwS5t8')"
   ]
  },
  {
   "cell_type": "markdown",
   "metadata": {},
   "source": [
    "[![Callysto.ca License](https://github.com/callysto/curriculum-notebooks/blob/master/callysto-notebook-banner-bottom.jpg?raw=true)](https://github.com/callysto/curriculum-notebooks/blob/master/LICENSE.md)"
   ]
  }
 ],
 "metadata": {
  "kernelspec": {
   "display_name": "Python 3.10.4 64-bit",
   "language": "python",
   "name": "python3"
  },
  "language_info": {
   "codemirror_mode": {
    "name": "ipython",
    "version": 3
   },
   "file_extension": ".py",
   "mimetype": "text/x-python",
   "name": "python",
   "nbconvert_exporter": "python",
   "pygments_lexer": "ipython3",
   "version": "3.10.4"
  },
  "orig_nbformat": 4,
  "vscode": {
   "interpreter": {
    "hash": "aee8b7b246df8f9039afb4144a1f6fd8d2ca17a180786b69acc140d282b71a49"
   }
  }
 },
 "nbformat": 4,
 "nbformat_minor": 2
}
